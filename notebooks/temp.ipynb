{
 "cells": [
  {
   "cell_type": "code",
   "execution_count": 1,
   "id": "c215724d",
   "metadata": {},
   "outputs": [],
   "source": [
    "# ============================================\n",
    "# 1. Imports\n",
    "# ============================================\n",
    "import pandas as pd\n",
    "import numpy as np\n",
    "import time\n",
    "import re\n",
    "import matplotlib.pyplot as plt\n",
    "from sklearn.model_selection import train_test_split\n",
    "from sklearn.metrics import (\n",
    "    confusion_matrix,\n",
    "    classification_report,\n",
    "    roc_auc_score,\n",
    "    roc_curve,\n",
    "    auc\n",
    ")\n",
    "from xgboost import XGBClassifier"
   ]
  },
  {
   "cell_type": "code",
   "execution_count": 2,
   "id": "f9c94fb6",
   "metadata": {},
   "outputs": [
    {
     "name": "stdout",
     "output_type": "stream",
     "text": [
      "Number of rows: 1345310\n"
     ]
    }
   ],
   "source": [
    "# ============================================\n",
    "# 2. Load Data\n",
    "# ============================================\n",
    "df_encoded = pd.read_csv('../data/cleaned_credit_data.csv')\n",
    "print(f\"Number of rows: {df_encoded.shape[0]}\")\n",
    "\n",
    "# Sample 500,000 rows for training\n",
    "df_sample = df_encoded.sample(n=500000, random_state=42)"
   ]
  },
  {
   "cell_type": "code",
   "execution_count": 3,
   "id": "e0d1d4b2",
   "metadata": {},
   "outputs": [],
   "source": [
    "# ============================================\n",
    "# 3. Features & Target\n",
    "# ============================================\n",
    "X = df_sample.drop('default', axis=1)\n",
    "y = df_sample['default']\n"
   ]
  },
  {
   "cell_type": "code",
   "execution_count": 4,
   "id": "f3790bda",
   "metadata": {},
   "outputs": [],
   "source": [
    "# ============================================\n",
    "# 4. Clean Column Names for XGBoost\n",
    "# ============================================\n",
    "def clean_cols(index):\n",
    "    idx = pd.Index(index).astype(str)\n",
    "    idx = idx.str.replace(r'\\[', '', regex=True) \\\n",
    "             .str.replace(r'\\]', '', regex=True) \\\n",
    "             .str.replace('<', 'LT', regex=False) \\\n",
    "             .str.replace('>', 'GT', regex=False) \\\n",
    "             .str.replace(r'\\s+', '_', regex=True)\n",
    "    return idx\n",
    "\n",
    "X.columns = clean_cols(X.columns)"
   ]
  },
  {
   "cell_type": "code",
   "execution_count": 5,
   "id": "9444b4e4",
   "metadata": {},
   "outputs": [
    {
     "name": "stdout",
     "output_type": "stream",
     "text": [
      "Train: (320000, 867), Val: (80000, 867), Test: (100000, 867)\n"
     ]
    }
   ],
   "source": [
    "# ============================================\n",
    "# 5. Train/Validation/Test Split\n",
    "# ============================================\n",
    "# First split into train+val and test\n",
    "X_trainval, X_test, y_trainval, y_test = train_test_split(\n",
    "    X, y, test_size=0.2, random_state=42, stratify=y\n",
    ")\n",
    "\n",
    "# Then split train+val into train and validation\n",
    "X_tr, X_val, y_tr, y_val = train_test_split(\n",
    "    X_trainval, y_trainval, test_size=0.2, random_state=42, stratify=y_trainval\n",
    ")\n",
    "\n",
    "print(f\"Train: {X_tr.shape}, Val: {X_val.shape}, Test: {X_test.shape}\")"
   ]
  },
  {
   "cell_type": "code",
   "execution_count": 6,
   "id": "509a4cf0",
   "metadata": {},
   "outputs": [
    {
     "name": "stdout",
     "output_type": "stream",
     "text": [
      "Scale_pos_weight: 4.02\n"
     ]
    }
   ],
   "source": [
    "# ============================================\n",
    "# 6. Handle Class Imbalance\n",
    "# ============================================\n",
    "scale_pos_weight = (y_tr == 0).sum() / (y_tr == 1).sum()\n",
    "print(f\"Scale_pos_weight: {scale_pos_weight:.2f}\")\n"
   ]
  },
  {
   "cell_type": "code",
   "execution_count": 7,
   "id": "fd10f166",
   "metadata": {},
   "outputs": [
    {
     "name": "stdout",
     "output_type": "stream",
     "text": [
      "Training time: 27.63 seconds\n"
     ]
    }
   ],
   "source": [
    "# ============================================\n",
    "# 7. Train XGBoost\n",
    "# ============================================\n",
    "xgb = XGBClassifier(\n",
    "    n_estimators=600,\n",
    "    learning_rate=0.05,\n",
    "    max_depth=8,\n",
    "    subsample=0.8,\n",
    "    colsample_bytree=0.8,\n",
    "    eval_metric='auc',\n",
    "    scale_pos_weight=scale_pos_weight,\n",
    "    random_state=42,\n",
    "    n_jobs=-1\n",
    ")\n",
    "\n",
    "start = time.time()\n",
    "xgb.fit(X_tr, y_tr)\n",
    "train_time = time.time() - start\n",
    "print(f\"Training time: {train_time:.2f} seconds\")"
   ]
  },
  {
   "cell_type": "code",
   "execution_count": 8,
   "id": "4af030c6",
   "metadata": {},
   "outputs": [
    {
     "name": "stdout",
     "output_type": "stream",
     "text": [
      "Confusion Matrix:\n",
      "[[56619 23455]\n",
      " [ 7726 12200]]\n",
      "\n",
      "Classification Report:\n",
      "              precision    recall  f1-score   support\n",
      "\n",
      "           0       0.88      0.71      0.78     80074\n",
      "           1       0.34      0.61      0.44     19926\n",
      "\n",
      "    accuracy                           0.69    100000\n",
      "   macro avg       0.61      0.66      0.61    100000\n",
      "weighted avg       0.77      0.69      0.72    100000\n",
      "\n",
      "ROC AUC Score: 0.7238\n"
     ]
    }
   ],
   "source": [
    "# ============================================\n",
    "# 8. Evaluate on Test Set\n",
    "# ============================================\n",
    "y_pred = xgb.predict(X_test)\n",
    "y_proba = xgb.predict_proba(X_test)[:, 1]\n",
    "\n",
    "cm = confusion_matrix(y_test, y_pred)\n",
    "print(\"Confusion Matrix:\")\n",
    "print(cm)\n",
    "\n",
    "print(\"\\nClassification Report:\")\n",
    "print(classification_report(y_test, y_pred))\n",
    "\n",
    "roc_auc = roc_auc_score(y_test, y_proba)\n",
    "print(f\"ROC AUC Score: {roc_auc:.4f}\")"
   ]
  },
  {
   "cell_type": "code",
   "execution_count": 9,
   "id": "3a1da890",
   "metadata": {},
   "outputs": [
    {
     "data": {
      "image/png": "[encoded data removed]",
      "text/plain": [
       "<Figure size 600x400 with 1 Axes>"
      ]
     },
     "metadata": {},
     "output_type": "display_data"
    }
   ],
   "source": [
    "# ============================================\n",
    "# 9. ROC Curve Plot\n",
    "# ============================================\n",
    "fpr, tpr, thresholds = roc_curve(y_test, y_proba)\n",
    "roc_auc_val = auc(fpr, tpr)\n",
    "\n",
    "plt.figure(figsize=(6, 4))\n",
    "plt.plot(fpr, tpr, color='darkorange', lw=2, label=f'AUC = {roc_auc_val:.2f}')\n",
    "plt.plot([0, 1], [0, 1], color='gray', linestyle='--')\n",
    "plt.xlabel('False Positive Rate')\n",
    "plt.ylabel('True Positive Rate')\n",
    "plt.title('ROC Curve - XGBoost')\n",
    "plt.legend(loc='lower right')\n",
    "plt.tight_layout()\n",
    "plt.show()"
   ]
  }
 ],
 "metadata": {
  "kernelspec": {
   "display_name": "venv",
   "language": "python",
   "name": "python3"
  },
  "language_info": {
   "codemirror_mode": {
    "name": "ipython",
    "version": 3
   },
   "file_extension": ".py",
   "mimetype": "text/x-python",
   "name": "python",
   "nbconvert_exporter": "python",
   "pygments_lexer": "ipython3",
   "version": "3.12.7"
  }
 },
 "nbformat": 4,
 "nbformat_minor": 5
}
