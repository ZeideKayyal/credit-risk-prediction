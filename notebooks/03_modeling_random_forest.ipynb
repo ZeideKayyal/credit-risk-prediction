{
 "cells": [
  {
   "cell_type": "markdown",
   "id": "60b94e86",
   "metadata": {},
   "source": [
    "# Credit Risk Prediction with Random Forest Classifier\n",
    "\n",
    "This notebook explores the performance of the Random Forest algorithm on the cleaned LendingClub dataset. Random Forests are powerful, ensemble-based classifiers that can handle both non-linear relationships and high-dimensional data. In this notebook, we:\n",
    "\n",
    "- Load and sample the preprocessed dataset\n",
    "- Split the data into training and test sets\n",
    "- Tune hyperparameters using `GridSearchCV` on a smaller sample\n",
    "- Train the final model on a larger sample\n",
    "- Evaluate model performance using standard classification metrics"
   ]
  },
  {
   "cell_type": "markdown",
   "id": "33874ac0",
   "metadata": {},
   "source": [
    "## Random Forest Classification Explanation\n",
    "\n",
    "The **Random Forest Classifier** is a powerful ensemble learning algorithm used for classification tasks. It builds upon the decision tree algorithm by combining the predictions of multiple decision trees to produce more accurate and robust results. Instead of relying on a single decision tree, the model trains multiple trees on random subsets of the data and features, then aggregates their predictions using majority voting.\n",
    "\n",
    "Random Forest is particularly well-suited for credit risk prediction problems because:\n",
    "- It handles **high-dimensional datasets** effectively.\n",
    "- It captures **nonlinear relationships** between features.\n",
    "- It is **less prone to overfitting** compared to individual decision trees, especially when tuned properly.\n",
    "- It provides **feature importance scores**, which help interpret which variables are most influential in the model’s decisions.\n",
    "\n",
    "Unlike logistic regression, Random Forest does **not require feature scaling**, and it performs well even when the data includes both numerical and categorical variables (after encoding). However, it can be **computationally intensive** on large datasets, especially with a large number of trees or deep trees.\n",
    "\n",
    "In this notebook, we will:\n",
    "1. Train a Random Forest model on the preprocessed LendingClub data.\n",
    "2. Evaluate its performance using classification metrics and visualization.\n",
    "3. Compare its results to logistic regression to understand its advantages and tradeoffs.\n"
   ]
  },
  {
   "cell_type": "code",
   "execution_count": null,
   "id": "08023ec2",
   "metadata": {},
   "outputs": [],
   "source": [
    "# Import libraries\n",
    "import pandas as pd\n",
    "from sklearn.model_selection import train_test_split\n",
    "from sklearn.preprocessing import StandardScaler\n",
    "from sklearn.ensemble import RandomForestClassifier\n",
    "from sklearn.model_selection import GridSearchCV\n",
    "from sklearn.metrics import classification_report, confusion_matrix, roc_auc_score, precision_recall_curve, average_precision_score, roc_curve, auc\n",
    "import seaborn as sns\n",
    "import matplotlib.pyplot as plt\n",
    "\n",
    "import time"
   ]
  },
  {
   "cell_type": "markdown",
   "id": "5a6d2e2a",
   "metadata": {},
   "source": [
    "## Load Data\n",
    "\n",
    "We begin by loading the cleaned dataset from the previous preprocessing notebook. To keep training times reasonable and to compare results consistently across models, we sample 500,000 rows from the dataset.\n"
   ]
  },
  {
   "cell_type": "code",
   "execution_count": 2,
   "id": "00e6b158",
   "metadata": {},
   "outputs": [
    {
     "name": "stdout",
     "output_type": "stream",
     "text": [
      "Total rows in dataset: 1345310\n"
     ]
    }
   ],
   "source": [
    "# Load cleaned and encoded dataset\n",
    "df_encoded = pd.read_csv('../data/cleaned_credit_data.csv')\n",
    "print(f\"Total rows in dataset: {df_encoded.shape[0]}\")"
   ]
  },
  {
   "cell_type": "markdown",
   "id": "e4bd86a7",
   "metadata": {},
   "source": [
    "## GridSearchCV\n",
    "\n",
    "Before training the full model, we perform hyperparameter tuning using `GridSearchCV` on a smaller 50,000-row sample. This allows us to explore combinations of `n_estimators`, `max_depth`, `min_samples_leaf`, and `class_weight` without excessive computation time. The best parameters are then used for the final model."
   ]
  },
  {
   "cell_type": "markdown",
   "id": "9e5acda9",
   "metadata": {},
   "source": [
    "### Sample Data"
   ]
  },
  {
   "cell_type": "code",
   "execution_count": 3,
   "id": "de548b17",
   "metadata": {},
   "outputs": [],
   "source": [
    "# Sample 50,000 rows for hyperparameter tuning\n",
    "df_grid = df_encoded.sample(n=50000, random_state=42)\n",
    "\n",
    "# Split into features and target\n",
    "X_grid = df_grid.drop('default', axis=1)\n",
    "y_grid = df_grid['default']"
   ]
  },
  {
   "cell_type": "markdown",
   "id": "3374a416",
   "metadata": {},
   "source": [
    "### Split Into Training and Test Sets"
   ]
  },
  {
   "cell_type": "code",
   "execution_count": 4,
   "id": "ec6c77b5",
   "metadata": {},
   "outputs": [],
   "source": [
    "# Split into training and test sets\n",
    "X_train_grid, X_test_grid, y_train_grid, y_test_grid = train_test_split(\n",
    "    X_grid, y_grid,\n",
    "    test_size=0.2,\n",
    "    stratify=y_grid,\n",
    "    random_state=42\n",
    ")"
   ]
  },
  {
   "cell_type": "markdown",
   "id": "7010496b",
   "metadata": {},
   "source": [
    "### Scale Features"
   ]
  },
  {
   "cell_type": "code",
   "execution_count": 5,
   "id": "f777cc65",
   "metadata": {},
   "outputs": [],
   "source": [
    "# Fit only on training set\n",
    "scaler_grid = StandardScaler()\n",
    "X_train_grid_scaled = scaler_grid.fit_transform(X_train_grid)\n",
    "X_test_grid_scaled = scaler_grid.transform(X_test_grid)"
   ]
  },
  {
   "cell_type": "markdown",
   "id": "557d82e2",
   "metadata": {},
   "source": [
    "### Run GridSearchCV"
   ]
  },
  {
   "cell_type": "code",
   "execution_count": 6,
   "id": "e53db72f",
   "metadata": {},
   "outputs": [
    {
     "name": "stdout",
     "output_type": "stream",
     "text": [
      "Fitting 3 folds for each of 36 candidates, totalling 108 fits\n",
      "[CV] END class_weight={0: 1, 1: 3}, max_depth=10, min_samples_leaf=10, n_estimators=100; total time=   9.4s\n",
      "[CV] END class_weight={0: 1, 1: 3}, max_depth=10, min_samples_leaf=10, n_estimators=100; total time=   9.4s\n",
      "[CV] END class_weight={0: 1, 1: 3}, max_depth=10, min_samples_leaf=10, n_estimators=100; total time=   9.5s\n",
      "[CV] END class_weight={0: 1, 1: 3}, max_depth=10, min_samples_leaf=5, n_estimators=100; total time=   9.6s\n",
      "[CV] END class_weight={0: 1, 1: 3}, max_depth=10, min_samples_leaf=5, n_estimators=100; total time=   9.6s\n",
      "[CV] END class_weight={0: 1, 1: 3}, max_depth=10, min_samples_leaf=5, n_estimators=100; total time=   9.6s\n",
      "[CV] END class_weight={0: 1, 1: 3}, max_depth=10, min_samples_leaf=5, n_estimators=200; total time=  15.0s\n",
      "[CV] END class_weight={0: 1, 1: 3}, max_depth=10, min_samples_leaf=5, n_estimators=200; total time=  15.6s\n",
      "[CV] END class_weight={0: 1, 1: 3}, max_depth=10, min_samples_leaf=5, n_estimators=200; total time=  15.8s\n",
      "[CV] END class_weight={0: 1, 1: 3}, max_depth=10, min_samples_leaf=5, n_estimators=300; total time=  22.1s\n",
      "[CV] END class_weight={0: 1, 1: 3}, max_depth=10, min_samples_leaf=5, n_estimators=300; total time=  22.5s\n",
      "[CV] END class_weight={0: 1, 1: 3}, max_depth=10, min_samples_leaf=5, n_estimators=300; total time=  22.6s\n",
      "[CV] END class_weight={0: 1, 1: 3}, max_depth=10, min_samples_leaf=10, n_estimators=200; total time=  15.1s\n",
      "[CV] END class_weight={0: 1, 1: 3}, max_depth=10, min_samples_leaf=10, n_estimators=200; total time=  15.3s\n",
      "[CV] END class_weight={0: 1, 1: 3}, max_depth=10, min_samples_leaf=10, n_estimators=200; total time=  15.4s\n",
      "[CV] END class_weight={0: 1, 1: 3}, max_depth=15, min_samples_leaf=5, n_estimators=100; total time=  10.9s\n",
      "[CV] END class_weight={0: 1, 1: 3}, max_depth=15, min_samples_leaf=5, n_estimators=100; total time=  10.5s\n",
      "[CV] END class_weight={0: 1, 1: 3}, max_depth=15, min_samples_leaf=5, n_estimators=100; total time=  11.4s\n",
      "[CV] END class_weight={0: 1, 1: 3}, max_depth=10, min_samples_leaf=10, n_estimators=300; total time=  21.9s\n",
      "[CV] END class_weight={0: 1, 1: 3}, max_depth=10, min_samples_leaf=10, n_estimators=300; total time=  22.4s\n",
      "[CV] END class_weight={0: 1, 1: 3}, max_depth=10, min_samples_leaf=10, n_estimators=300; total time=  22.6s\n",
      "[CV] END class_weight={0: 1, 1: 3}, max_depth=15, min_samples_leaf=10, n_estimators=100; total time=  10.7s\n",
      "[CV] END class_weight={0: 1, 1: 3}, max_depth=15, min_samples_leaf=10, n_estimators=100; total time=  11.2s\n",
      "[CV] END class_weight={0: 1, 1: 3}, max_depth=15, min_samples_leaf=10, n_estimators=100; total time=  10.3s\n",
      "[CV] END class_weight={0: 1, 1: 3}, max_depth=15, min_samples_leaf=5, n_estimators=200; total time=  17.9s\n",
      "[CV] END class_weight={0: 1, 1: 3}, max_depth=15, min_samples_leaf=5, n_estimators=200; total time=  18.6s\n",
      "[CV] END class_weight={0: 1, 1: 3}, max_depth=15, min_samples_leaf=5, n_estimators=200; total time=  18.1s\n",
      "[CV] END class_weight={0: 1, 1: 3}, max_depth=15, min_samples_leaf=10, n_estimators=200; total time=  17.7s\n",
      "[CV] END class_weight={0: 1, 1: 3}, max_depth=15, min_samples_leaf=10, n_estimators=200; total time=  17.5s\n",
      "[CV] END class_weight={0: 1, 1: 3}, max_depth=15, min_samples_leaf=10, n_estimators=200; total time=  17.7s\n",
      "[CV] END class_weight={0: 1, 1: 3}, max_depth=15, min_samples_leaf=5, n_estimators=300; total time=  26.1s\n",
      "[CV] END class_weight={0: 1, 1: 3}, max_depth=15, min_samples_leaf=5, n_estimators=300; total time=  26.5s\n",
      "[CV] END class_weight={0: 1, 1: 3}, max_depth=15, min_samples_leaf=5, n_estimators=300; total time=  26.6s\n",
      "[CV] END class_weight={0: 1, 1: 3}, max_depth=20, min_samples_leaf=5, n_estimators=100; total time=  10.6s\n",
      "[CV] END class_weight={0: 1, 1: 3}, max_depth=20, min_samples_leaf=5, n_estimators=100; total time=  11.0s\n",
      "[CV] END class_weight={0: 1, 1: 3}, max_depth=20, min_samples_leaf=5, n_estimators=100; total time=  10.9s\n",
      "[CV] END class_weight={0: 1, 1: 3}, max_depth=15, min_samples_leaf=10, n_estimators=300; total time=  24.8s\n",
      "[CV] END class_weight={0: 1, 1: 3}, max_depth=15, min_samples_leaf=10, n_estimators=300; total time=  24.4s\n",
      "[CV] END class_weight={0: 1, 1: 3}, max_depth=15, min_samples_leaf=10, n_estimators=300; total time=  24.6s\n",
      "[CV] END class_weight={0: 1, 1: 3}, max_depth=20, min_samples_leaf=10, n_estimators=100; total time=  10.6s\n",
      "[CV] END class_weight={0: 1, 1: 3}, max_depth=20, min_samples_leaf=10, n_estimators=100; total time=  10.6s\n",
      "[CV] END class_weight={0: 1, 1: 3}, max_depth=20, min_samples_leaf=10, n_estimators=100; total time=  10.6s\n",
      "[CV] END class_weight={0: 1, 1: 3}, max_depth=20, min_samples_leaf=5, n_estimators=200; total time=  18.4s\n",
      "[CV] END class_weight={0: 1, 1: 3}, max_depth=20, min_samples_leaf=5, n_estimators=200; total time=  18.2s\n",
      "[CV] END class_weight={0: 1, 1: 3}, max_depth=20, min_samples_leaf=5, n_estimators=200; total time=  18.2s\n",
      "[CV] END class_weight={0: 1, 1: 5}, max_depth=10, min_samples_leaf=5, n_estimators=100; total time=   9.4s\n",
      "[CV] END class_weight={0: 1, 1: 5}, max_depth=10, min_samples_leaf=5, n_estimators=100; total time=  10.1s\n",
      "[CV] END class_weight={0: 1, 1: 5}, max_depth=10, min_samples_leaf=5, n_estimators=100; total time=  10.4s\n",
      "[CV] END class_weight={0: 1, 1: 3}, max_depth=20, min_samples_leaf=5, n_estimators=300; total time=  28.4s\n",
      "[CV] END class_weight={0: 1, 1: 3}, max_depth=20, min_samples_leaf=5, n_estimators=300; total time=  28.5s\n",
      "[CV] END class_weight={0: 1, 1: 3}, max_depth=20, min_samples_leaf=5, n_estimators=300; total time=  28.8s\n",
      "[CV] END class_weight={0: 1, 1: 3}, max_depth=20, min_samples_leaf=10, n_estimators=200; total time=  18.2s\n",
      "[CV] END class_weight={0: 1, 1: 3}, max_depth=20, min_samples_leaf=10, n_estimators=200; total time=  18.2s\n",
      "[CV] END class_weight={0: 1, 1: 3}, max_depth=20, min_samples_leaf=10, n_estimators=200; total time=  18.7s\n",
      "[CV] END class_weight={0: 1, 1: 5}, max_depth=10, min_samples_leaf=10, n_estimators=100; total time=   9.2s\n",
      "[CV] END class_weight={0: 1, 1: 3}, max_depth=20, min_samples_leaf=10, n_estimators=300; total time=  27.9s\n",
      "[CV] END class_weight={0: 1, 1: 3}, max_depth=20, min_samples_leaf=10, n_estimators=300; total time=  27.6s\n",
      "[CV] END class_weight={0: 1, 1: 5}, max_depth=10, min_samples_leaf=10, n_estimators=100; total time=   9.9s\n",
      "[CV] END class_weight={0: 1, 1: 5}, max_depth=10, min_samples_leaf=10, n_estimators=100; total time=   9.6s\n",
      "[CV] END class_weight={0: 1, 1: 3}, max_depth=20, min_samples_leaf=10, n_estimators=300; total time=  28.3s\n",
      "[CV] END class_weight={0: 1, 1: 5}, max_depth=10, min_samples_leaf=5, n_estimators=200; total time=  16.6s\n",
      "[CV] END class_weight={0: 1, 1: 5}, max_depth=10, min_samples_leaf=5, n_estimators=200; total time=  16.1s\n",
      "[CV] END class_weight={0: 1, 1: 5}, max_depth=10, min_samples_leaf=5, n_estimators=200; total time=  16.6s\n",
      "[CV] END class_weight={0: 1, 1: 5}, max_depth=10, min_samples_leaf=5, n_estimators=300; total time=  24.6s\n",
      "[CV] END class_weight={0: 1, 1: 5}, max_depth=10, min_samples_leaf=5, n_estimators=300; total time=  25.4s\n",
      "[CV] END class_weight={0: 1, 1: 5}, max_depth=10, min_samples_leaf=5, n_estimators=300; total time=  25.3s\n",
      "[CV] END class_weight={0: 1, 1: 5}, max_depth=10, min_samples_leaf=10, n_estimators=200; total time=  16.7s\n",
      "[CV] END class_weight={0: 1, 1: 5}, max_depth=15, min_samples_leaf=5, n_estimators=100; total time=  12.0s\n",
      "[CV] END class_weight={0: 1, 1: 5}, max_depth=15, min_samples_leaf=5, n_estimators=100; total time=  12.5s\n",
      "[CV] END class_weight={0: 1, 1: 5}, max_depth=15, min_samples_leaf=5, n_estimators=100; total time=  12.5s\n",
      "[CV] END class_weight={0: 1, 1: 5}, max_depth=10, min_samples_leaf=10, n_estimators=200; total time=  17.2s\n",
      "[CV] END class_weight={0: 1, 1: 5}, max_depth=10, min_samples_leaf=10, n_estimators=200; total time=  17.0s\n",
      "[CV] END class_weight={0: 1, 1: 5}, max_depth=10, min_samples_leaf=10, n_estimators=300; total time=  23.4s\n",
      "[CV] END class_weight={0: 1, 1: 5}, max_depth=10, min_samples_leaf=10, n_estimators=300; total time=  23.2s\n",
      "[CV] END class_weight={0: 1, 1: 5}, max_depth=10, min_samples_leaf=10, n_estimators=300; total time=  24.1s\n",
      "[CV] END class_weight={0: 1, 1: 5}, max_depth=15, min_samples_leaf=10, n_estimators=100; total time=   9.6s\n",
      "[CV] END class_weight={0: 1, 1: 5}, max_depth=15, min_samples_leaf=10, n_estimators=100; total time=  10.2s\n",
      "[CV] END class_weight={0: 1, 1: 5}, max_depth=15, min_samples_leaf=10, n_estimators=100; total time=  10.3s\n",
      "[CV] END class_weight={0: 1, 1: 5}, max_depth=15, min_samples_leaf=5, n_estimators=200; total time=  18.3s\n",
      "[CV] END class_weight={0: 1, 1: 5}, max_depth=15, min_samples_leaf=5, n_estimators=200; total time=  17.7s\n",
      "[CV] END class_weight={0: 1, 1: 5}, max_depth=15, min_samples_leaf=5, n_estimators=200; total time=  18.2s\n",
      "[CV] END class_weight={0: 1, 1: 5}, max_depth=15, min_samples_leaf=10, n_estimators=200; total time=  18.6s\n",
      "[CV] END class_weight={0: 1, 1: 5}, max_depth=15, min_samples_leaf=10, n_estimators=200; total time=  18.4s\n",
      "[CV] END class_weight={0: 1, 1: 5}, max_depth=15, min_samples_leaf=5, n_estimators=300; total time=  27.2s\n",
      "[CV] END class_weight={0: 1, 1: 5}, max_depth=15, min_samples_leaf=5, n_estimators=300; total time=  27.3s\n",
      "[CV] END class_weight={0: 1, 1: 5}, max_depth=15, min_samples_leaf=10, n_estimators=200; total time=  18.9s\n",
      "[CV] END class_weight={0: 1, 1: 5}, max_depth=20, min_samples_leaf=5, n_estimators=100; total time=  11.9s\n",
      "[CV] END class_weight={0: 1, 1: 5}, max_depth=15, min_samples_leaf=5, n_estimators=300; total time=  27.5s\n",
      "[CV] END class_weight={0: 1, 1: 5}, max_depth=20, min_samples_leaf=5, n_estimators=100; total time=  11.6s\n",
      "[CV] END class_weight={0: 1, 1: 5}, max_depth=20, min_samples_leaf=5, n_estimators=100; total time=  11.7s\n",
      "[CV] END class_weight={0: 1, 1: 5}, max_depth=15, min_samples_leaf=10, n_estimators=300; total time=  27.4s\n",
      "[CV] END class_weight={0: 1, 1: 5}, max_depth=15, min_samples_leaf=10, n_estimators=300; total time=  27.5s\n",
      "[CV] END class_weight={0: 1, 1: 5}, max_depth=15, min_samples_leaf=10, n_estimators=300; total time=  28.5s\n",
      "[CV] END class_weight={0: 1, 1: 5}, max_depth=20, min_samples_leaf=10, n_estimators=100; total time=  11.8s\n",
      "[CV] END class_weight={0: 1, 1: 5}, max_depth=20, min_samples_leaf=10, n_estimators=100; total time=  11.3s\n",
      "[CV] END class_weight={0: 1, 1: 5}, max_depth=20, min_samples_leaf=10, n_estimators=100; total time=  11.8s\n",
      "[CV] END class_weight={0: 1, 1: 5}, max_depth=20, min_samples_leaf=5, n_estimators=200; total time=  20.2s\n",
      "[CV] END class_weight={0: 1, 1: 5}, max_depth=20, min_samples_leaf=5, n_estimators=200; total time=  21.0s\n",
      "[CV] END class_weight={0: 1, 1: 5}, max_depth=20, min_samples_leaf=5, n_estimators=200; total time=  20.7s\n",
      "[CV] END class_weight={0: 1, 1: 5}, max_depth=20, min_samples_leaf=5, n_estimators=300; total time=  28.4s\n",
      "[CV] END class_weight={0: 1, 1: 5}, max_depth=20, min_samples_leaf=10, n_estimators=200; total time=  17.3s\n",
      "[CV] END class_weight={0: 1, 1: 5}, max_depth=20, min_samples_leaf=5, n_estimators=300; total time=  28.6s\n",
      "[CV] END class_weight={0: 1, 1: 5}, max_depth=20, min_samples_leaf=10, n_estimators=200; total time=  17.1s\n",
      "[CV] END class_weight={0: 1, 1: 5}, max_depth=20, min_samples_leaf=10, n_estimators=200; total time=  17.2s\n",
      "[CV] END class_weight={0: 1, 1: 5}, max_depth=20, min_samples_leaf=5, n_estimators=300; total time=  28.3s\n",
      "[CV] END class_weight={0: 1, 1: 5}, max_depth=20, min_samples_leaf=10, n_estimators=300; total time=  18.3s\n",
      "[CV] END class_weight={0: 1, 1: 5}, max_depth=20, min_samples_leaf=10, n_estimators=300; total time=  18.4s\n",
      "[CV] END class_weight={0: 1, 1: 5}, max_depth=20, min_samples_leaf=10, n_estimators=300; total time=  18.6s\n",
      "Best Parameters: {'class_weight': {0: 1, 1: 3}, 'max_depth': 20, 'min_samples_leaf': 10, 'n_estimators': 300}\n",
      "Best ROC AUC Score: 0.7137784140449087\n"
     ]
    }
   ],
   "source": [
    "# Define parameters to be tested\n",
    "param_grid = {\n",
    "    'n_estimators': [100, 200, 300],\n",
    "    'max_depth': [10, 15, 20],\n",
    "    'min_samples_leaf': [5, 10],\n",
    "    'class_weight': [{0: 1, 1: 3}, {0: 1, 1: 5}]\n",
    "}\n",
    "\n",
    "rf = RandomForestClassifier(random_state=42, n_jobs=-1)\n",
    "\n",
    "grid_search = GridSearchCV(\n",
    "    estimator=rf,\n",
    "    param_grid=param_grid,\n",
    "    scoring='roc_auc',\n",
    "    cv=3,\n",
    "    n_jobs=-1,\n",
    "    verbose=2\n",
    ")\n",
    "\n",
    "grid_search.fit(X_train_grid_scaled, y_train_grid)\n",
    "\n",
    "print(\"Best Parameters:\", grid_search.best_params_)\n",
    "print(\"Best ROC AUC Score:\", grid_search.best_score_)\n",
    "\n",
    "# Save best params\n",
    "best_params = grid_search.best_params_\n"
   ]
  },
  {
   "cell_type": "markdown",
   "id": "dc779bc6",
   "metadata": {},
   "source": [
    "## Random Forest Classifier\n",
    "\n",
    "Using the best parameters from the grid search, we now train the final Random Forest classifier on a larger 500,000-row sample. We use all available cores for faster training.\n"
   ]
  },
  {
   "cell_type": "markdown",
   "id": "6062e97f",
   "metadata": {},
   "source": [
    "### Sample Data (500,000 rows)"
   ]
  },
  {
   "cell_type": "code",
   "execution_count": 7,
   "id": "83fc7a0a",
   "metadata": {},
   "outputs": [],
   "source": [
    "# Sample 500,000 rows for final training\n",
    "df_final = df_encoded.sample(n=500000, random_state=42)\n",
    "\n",
    "X = df_final.drop('default', axis=1)\n",
    "y = df_final['default']"
   ]
  },
  {
   "cell_type": "markdown",
   "id": "9f979c03",
   "metadata": {},
   "source": [
    "### Split Into Training and Test Sets"
   ]
  },
  {
   "cell_type": "code",
   "execution_count": 8,
   "id": "41344073",
   "metadata": {},
   "outputs": [],
   "source": [
    "X_train, X_test, y_train, y_test = train_test_split(\n",
    "    X, y,\n",
    "    test_size=0.2,\n",
    "    stratify=y,\n",
    "    random_state=42\n",
    ")"
   ]
  },
  {
   "cell_type": "markdown",
   "id": "5ff2966c",
   "metadata": {},
   "source": [
    "### Scale Features"
   ]
  },
  {
   "cell_type": "code",
   "execution_count": 9,
   "id": "70419d12",
   "metadata": {},
   "outputs": [],
   "source": [
    "# Scale with new scaler (fit only on training set)\n",
    "scaler = StandardScaler()\n",
    "X_train_scaled = scaler.fit_transform(X_train)\n",
    "X_test_scaled = scaler.transform(X_test)"
   ]
  },
  {
   "cell_type": "markdown",
   "id": "7a23e85a",
   "metadata": {},
   "source": [
    "### Train Classifier"
   ]
  },
  {
   "cell_type": "code",
   "execution_count": 10,
   "id": "df0da939",
   "metadata": {},
   "outputs": [
    {
     "name": "stdout",
     "output_type": "stream",
     "text": [
      "Training time: 51.24 seconds\n"
     ]
    }
   ],
   "source": [
    "# Initialize model with best hyperparameters from GridSearchCV\n",
    "final_model = RandomForestClassifier(\n",
    "    **best_params,\n",
    "    random_state=42,\n",
    "    n_jobs=-1\n",
    ")\n",
    "\n",
    "start = time.time()\n",
    "final_model.fit(X_train_scaled, y_train)\n",
    "end = time.time()\n",
    "\n",
    "print(f\"Training time: {end - start:.2f} seconds\")\n"
   ]
  },
  {
   "cell_type": "markdown",
   "id": "3f036af3",
   "metadata": {},
   "source": [
    "### Evaluate Model Performance\n",
    "\n",
    "We check accuracy, precision, recall, F1-score, and ROC AUC.\n"
   ]
  },
  {
   "cell_type": "code",
   "execution_count": 11,
   "id": "c2f584f0",
   "metadata": {},
   "outputs": [
    {
     "name": "stdout",
     "output_type": "stream",
     "text": [
      "Confusion Matrix:\n",
      "[[66959 13115]\n",
      " [11498  8428]]\n",
      "\n",
      "Classification Report:\n",
      "              precision    recall  f1-score   support\n",
      "\n",
      "           0       0.85      0.84      0.84     80074\n",
      "           1       0.39      0.42      0.41     19926\n",
      "\n",
      "    accuracy                           0.75    100000\n",
      "   macro avg       0.62      0.63      0.63    100000\n",
      "weighted avg       0.76      0.75      0.76    100000\n",
      "\n",
      "ROC AUC Score: 0.716303317002785\n"
     ]
    }
   ],
   "source": [
    "y_pred = final_model.predict(X_test_scaled)\n",
    "y_proba = final_model.predict_proba(X_test_scaled)[:, 1]\n",
    "\n",
    "print(\"Confusion Matrix:\")\n",
    "print(confusion_matrix(y_test, y_pred))\n",
    "\n",
    "print(\"\\nClassification Report:\")\n",
    "print(classification_report(y_test, y_pred))\n",
    "\n",
    "print(\"ROC AUC Score:\", roc_auc_score(y_test, y_proba))\n"
   ]
  },
  {
   "cell_type": "markdown",
   "id": "426999f0",
   "metadata": {},
   "source": [
    "## Interpretation\n",
    "\n",
    "- **Precision (Class 1)**: Out of all predicted defaults, how many were actually defaults.\n",
    "- **Recall (Class 1)**: Out of all true defaults, how many the model caught.\n",
    "- **F1-score (Class 1)**: Balance of precision and recall.\n",
    "- **ROC AUC**: Overall ability of the model to separate defaulters from non-defaulters.\n",
    "\n",
    "These metrics are especially important in **credit risk** where:\n",
    "- False positives = denying a good borrower\n",
    "- False negatives = approving a risky borrower\n",
    "\n",
    "We aim to **maximize recall** while keeping decent precision.\n"
   ]
  },
  {
   "cell_type": "markdown",
   "id": "7a267ef9",
   "metadata": {},
   "source": [
    "### Random Forest Results (Sample Size: 500,000)\n",
    "\n",
    "After tuning the model using `GridSearchCV` on a 50,000-row sample and training on a larger sample of 500,000 rows, the Random Forest classifier achieved **moderate performance** on the credit risk prediction task. Training with class weights to address class imbalance and using the best-found hyperparameters led to a final model with an **overall accuracy of 75%**.\n",
    "\n",
    "From the **confusion matrix**, we can observe that the model correctly classified **66,959 fully paid loans** and **8,428 defaults**, while it misclassified **13,115 paid loans as defaults** and **11,498 defaults as paid**. This imbalance in predictive power is reflected in the **classification report**:  \n",
    "- Precision for the default class was **0.39**, meaning that 39% of predicted defaults were correct.  \n",
    "- Recall was **0.42**, indicating that 42% of actual defaults were successfully identified.  \n",
    "- The **F1-score** for the default class (which balances precision and recall) was **0.41**.\n",
    "\n",
    "While not perfect, the model still captures a meaningful portion of default cases, and the **ROC AUC score of 0.716** confirms that the model performs substantially better than random guessing, but with clear room for improvement.\n",
    "\n",
    "This model provides a solid benchmark for tree-based methods and highlights the potential for further optimization using techniques such as ensemble boosting (e.g., XGBoost, LightGBM), feature selection, or cost-sensitive learning strategies.\n"
   ]
  },
  {
   "cell_type": "markdown",
   "id": "5ecd0902",
   "metadata": {},
   "source": [
    "# Credit Risk Prediction with Random Forest Classifier Results"
   ]
  },
  {
   "cell_type": "markdown",
   "id": "bddef1c9",
   "metadata": {},
   "source": [
    "## Confusion Matrix\n",
    "\n",
    "The confusion matrix provides a detailed breakdown of predicted vs. actual classifications. It helps us understand how well the model distinguishes between repaid and defaulted loans, including false positives (predicting default when the loan is actually repaid) and false negatives (failing to catch a true default).\n"
   ]
  },
  {
   "cell_type": "code",
   "execution_count": 12,
   "id": "1af3a914",
   "metadata": {},
   "outputs": [
    {
     "data": {
      "image/png": "[encoded data removed]",
      "text/plain": [
       "<Figure size 600x400 with 2 Axes>"
      ]
     },
     "metadata": {},
     "output_type": "display_data"
    }
   ],
   "source": [
    "cm = confusion_matrix(y_test, y_pred)\n",
    "\n",
    "plt.figure(figsize=(6, 4))\n",
    "sns.heatmap(cm, annot=True, fmt='d', cmap='Blues',\n",
    "            xticklabels=['Predicted Repaid', 'Predicted Default'],\n",
    "            yticklabels=['Actual Repaid', 'Actual Default'])\n",
    "plt.title('Confusion Matrix')\n",
    "plt.xlabel('Predicted')\n",
    "plt.ylabel('Actual')\n",
    "plt.tight_layout()\n",
    "plt.show()"
   ]
  },
  {
   "cell_type": "markdown",
   "id": "5e359f31",
   "metadata": {},
   "source": [
    "### Confusion Matrix Analysis\n",
    "\n",
    "The confusion matrix provides a detailed breakdown of the Random Forest model’s classification performance for repaid and defaulted loans. Each cell represents a combination of actual and predicted labels:\n",
    "\n",
    "- **True Negatives (Top-Left: 66,959)**: Loans that were actually repaid and correctly predicted as repaid.\n",
    "- **False Positives (Top-Right: 13,115)**: Loans that were actually repaid but incorrectly predicted as defaults.\n",
    "- **False Negatives (Bottom-Left: 11,498)**: Loans that actually defaulted but were misclassified as repaid.\n",
    "- **True Positives (Bottom-Right: 8,428)**: Loans that defaulted and were correctly predicted as such.\n",
    "\n",
    "From this matrix, we can see that the model correctly identified a large majority of repaid loans (**66,959 true negatives**) but struggled more with detecting defaults, achieving only **8,428 true positives** while missing **11,498 defaulters**. This suggests that the model favors predicting repayment, which boosts overall accuracy but reduces recall for the minority (default) class.\n",
    "\n",
    "The relatively high number of false negatives is a concern in credit risk modeling, as these represent risky loans that would be wrongly approved. On the other hand, the lower false positive count (**13,115**) compared to logistic regression means fewer repaid loans are unnecessarily flagged as high risk, potentially preserving more lending opportunities. This trade-off reflects the Random Forest’s stronger precision for defaults but weaker recall, highlighting the importance of aligning model tuning with the business’s tolerance for different types of errors.\n"
   ]
  },
  {
   "cell_type": "markdown",
   "id": "ec18eab7",
   "metadata": {},
   "source": [
    "## ROC Curve and AUC Score\n",
    "\n",
    "The ROC (Receiver Operating Characteristic) curve visualizes the trade-off between the true positive rate (recall) and the false positive rate across different classification thresholds. The Area Under the Curve (AUC) quantifies this performance — a higher AUC means the model is better at distinguishing between classes."
   ]
  },
  {
   "cell_type": "code",
   "execution_count": 13,
   "id": "07c40732",
   "metadata": {},
   "outputs": [
    {
     "data": {
      "image/png": "[encoded data removed]",
      "text/plain": [
       "<Figure size 600x400 with 1 Axes>"
      ]
     },
     "metadata": {},
     "output_type": "display_data"
    }
   ],
   "source": [
    "fpr, tpr, thresholds = roc_curve(y_test, y_proba)\n",
    "roc_auc = auc(fpr, tpr)\n",
    "\n",
    "plt.figure(figsize=(6, 4))\n",
    "plt.plot(fpr, tpr, color='darkorange', lw=2, label=f'AUC = {roc_auc:.2f}')\n",
    "plt.plot([0, 1], [0, 1], color='gray', linestyle='--')\n",
    "plt.xlabel('False Positive Rate')\n",
    "plt.ylabel('True Positive Rate')\n",
    "plt.title('ROC Curve')\n",
    "plt.legend(loc='lower right')\n",
    "plt.tight_layout()\n",
    "plt.show()"
   ]
  },
  {
   "cell_type": "markdown",
   "id": "16781219",
   "metadata": {},
   "source": [
    "### ROC Curve Analysis  \n",
    "\n",
    "The ROC curve provides a visual representation of the trade-off between the **True Positive Rate (Recall)** and the **False Positive Rate** at various classification thresholds. The curve shown here demonstrates that the Random Forest model performs significantly better than random guessing (represented by the diagonal dashed line).  \n",
    "\n",
    "With an **AUC score of 0.72**, the model shows a moderate ability to distinguish between default and non-default cases. While not perfect, this is a substantial improvement over chance (AUC = 0.50) and indicates that the model captures meaningful patterns in the data.  \n",
    "\n",
    "The shape of the curve suggests that the model maintains a reasonable recall for defaulters while controlling the false positive rate up to a certain threshold. However, the curve does not approach the top-left corner as closely as high-performing models would, signaling room for improvement — potentially through further feature engineering, hyperparameter tuning, or using more advanced ensemble methods.  \n",
    "\n",
    "In practice, this AUC value means that if we randomly select one defaulted loan and one repaid loan, the model will correctly rank the defaulted loan as higher risk about **72% of the time**. This makes it a useful, though not flawless, tool for credit risk prediction.  "
   ]
  },
  {
   "cell_type": "markdown",
   "id": "8b4524ac",
   "metadata": {},
   "source": [
    "## Precision-Recall Curve\n",
    "\n",
    "This curve is especially useful for imbalanced datasets. It shows the trade-off between precision (how many predicted defaults were correct) and recall (how many actual defaults were caught). A good model tries to keep both high."
   ]
  },
  {
   "cell_type": "code",
   "execution_count": 15,
   "id": "6151010a",
   "metadata": {},
   "outputs": [
    {
     "data": {
      "image/png": "[encoded data removed]",
      "text/plain": [
       "<Figure size 600x400 with 1 Axes>"
      ]
     },
     "metadata": {},
     "output_type": "display_data"
    }
   ],
   "source": [
    "from sklearn.metrics import precision_recall_curve, average_precision_score\n",
    "\n",
    "\n",
    "precision, recall, thresholds = precision_recall_curve(y_test, y_proba)\n",
    "pr_auc = average_precision_score(y_test, y_proba)\n",
    "\n",
    "plt.figure(figsize=(6, 4))\n",
    "plt.plot(recall, precision, lw=2, color='purple', label=f'AUC = {pr_auc:.2f}')\n",
    "plt.xlabel('Recall')\n",
    "plt.ylabel('Precision')\n",
    "plt.title('Precision-Recall Curve')\n",
    "plt.grid(True)\n",
    "plt.legend(loc='lower right')\n",
    "plt.tight_layout()\n",
    "plt.show()"
   ]
  },
  {
   "cell_type": "markdown",
   "id": "15f4771e",
   "metadata": {},
   "source": [
    "### Precision-Recall Curve Analysis  \n",
    "\n",
    "The Precision-Recall (PR) curve provides deeper insight into the model's performance on imbalanced datasets, where the positive class (loan defaults) is much less frequent than the negative class (loan repayments).  \n",
    "\n",
    "With an **AUC score of 0.39**, the Random Forest model demonstrates limited effectiveness in maintaining high precision while capturing a substantial proportion of actual defaulters. At very high recall values, precision drops significantly, indicating that as the model tries to catch more defaulters, it introduces many false positives. Conversely, when precision is high, recall is extremely low, meaning that the model is identifying only a small fraction of true defaulters.  \n",
    "\n",
    "The steep decline from high precision at very low recall highlights that the model can confidently identify a small subset of defaults but struggles to generalize this accuracy across the entire population of defaulters.  \n",
    "\n",
    "In the context of credit risk modeling, this curve suggests a trade-off:  \n",
    "- **Higher precision** reduces the risk of wrongly flagging good customers but misses many actual defaulters.  \n",
    "- **Higher recall** catches more defaulters but at the cost of incorrectly classifying many non-defaulters.  \n",
    "\n",
    "Given the relatively modest AUC score, further work on feature engineering, resampling strategies (e.g., SMOTE), or advanced algorithms could improve the balance between precision and recall for this task.  \n"
   ]
  }
 ],
 "metadata": {
  "kernelspec": {
   "display_name": "venv",
   "language": "python",
   "name": "python3"
  },
  "language_info": {
   "codemirror_mode": {
    "name": "ipython",
    "version": 3
   },
   "file_extension": ".py",
   "mimetype": "text/x-python",
   "name": "python",
   "nbconvert_exporter": "python",
   "pygments_lexer": "ipython3",
   "version": "3.12.7"
  }
 },
 "nbformat": 4,
 "nbformat_minor": 5
}
